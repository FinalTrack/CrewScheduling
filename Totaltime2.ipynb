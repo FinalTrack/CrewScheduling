{
 "cells": [
  {
   "cell_type": "code",
   "execution_count": 1,
   "metadata": {},
   "outputs": [],
   "source": [
    "import pandas as pd\n",
    "valid_locations = [\n",
    "    \"TVC\", \"KCVL\", \"NCJ\", \"CAPE\", \"ERS\", \"QLN\", \"ERN\", \"MDU\", \"TEN\", \"SRR\",\n",
    "    \"PGT\", \"CLT\", \"ED\", \"TVC\", \"NCJ\", \"ERS\", \"QLN\", \"ERN\", \"TEN\", \"MDU\",\n",
    "    \"SRR\", \"PGT\", \"TCR\", \"ALLP\", \"KTYM\", \"GUV\", \"PUU\", \"KYJ\", \"CAR\"\n",
    "]\n",
    "\n",
    "# filtered_df = df[df['from'].isin(valid_locations) & df['to'].isin(valid_locations)]\n",
    "# filtered_df.to_csv('trainstartings2.csv', index=False)"
   ]
  },
  {
   "cell_type": "code",
   "execution_count": null,
   "metadata": {},
   "outputs": [],
   "source": [
    "\n",
    "# import pandas as pd\n",
    "\n",
    "# filtered_df = df[df['StationCode'].isin(valid_station_codes)]\n",
    "# filtered_df.to_csv('alldetails2.csv', index=False)\n"
   ]
  },
  {
   "cell_type": "code",
   "execution_count": 2,
   "metadata": {},
   "outputs": [
    {
     "name": "stdout",
     "output_type": "stream",
     "text": [
      "The timetable with repeated days and valid locations has been processed and saved as 'train_edges_repeated_days.csv'.\n"
     ]
    }
   ],
   "source": [
    "import pandas as pd\n",
    "from datetime import datetime\n",
    "\n",
    "# Load the CSV files\n",
    "trainstartings_df = pd.read_csv('trainstartings.csv')\n",
    "alldetails_df = pd.read_csv('alldetails.csv')\n",
    "\n",
    "# List of vertices of interest (valid locations)\n",
    "# valid_locations = ['LOC1', 'LOC2', 'LOC3']  # Replace with your list of valid vertices\n",
    "\n",
    "days_of_week = ['Sunday', 'Monday', 'Tuesday', 'Wednesday', 'Thursday', 'Friday', 'Saturday']\n",
    "\n",
    "# Helper function to convert time strings into minutes for time difference calculation\n",
    "def time_to_minutes(day_str, time_str):\n",
    "    days_offset = {'Sun': 6, 'Mon': 0, 'Tue': 1, 'Wed': 2, 'Thu': 3, 'Fri': 4, 'Sat': 5}\n",
    "    time = datetime.strptime(time_str, \"%H:%M\")\n",
    "    minutes = time.hour * 60 + time.minute\n",
    "    total_minutes = days_offset[day_str] * 1440 + minutes\n",
    "    return total_minutes\n",
    "\n",
    "edges_data = []\n",
    "\n",
    "for train_no in alldetails_df['trainNo'].unique():\n",
    "    # Extract the journey details for this train\n",
    "    train_data = alldetails_df[alldetails_df['trainNo'] == train_no]\n",
    "\n",
    "    # Get the starting day info for this train\n",
    "    train_start_days = trainstartings_df[trainstartings_df['trainNo'] == train_no]\n",
    "\n",
    "    # Check if train_start_days is not empty\n",
    "    if not train_start_days.empty:\n",
    "        # Check each day of the week to find valid start days\n",
    "        for i, day in enumerate(days_of_week):\n",
    "            if train_start_days[day].values[0] == 1:  # Train operates on this day\n",
    "                current_station = None  # Reset current station when a new train starts\n",
    "                current_departure = None  # Reset current departure time when a new train starts\n",
    "                \n",
    "                # Loop through train data to find valid edges between vertices of interest\n",
    "                for j in range(len(train_data)):\n",
    "                    row = train_data.iloc[j]\n",
    "\n",
    "                    if row['StationCode'] in valid_locations:\n",
    "                        # If this is the first valid station, set it as current\n",
    "                        if current_station is None:\n",
    "                            current_station = row['StationCode']\n",
    "                            current_departure = f\"{days_of_week[(i + row['Day of Journey'] - 1) % 7][:3]} {row['Departure']}\"\n",
    "                        else:\n",
    "                            # Create an edge between current station and the new valid station\n",
    "                            departure_time = f\"{days_of_week[(i + row['Day of Journey'] - 1) % 7][:3]} {row['Departure']}\"\n",
    "                            arrival_time = f\"{days_of_week[(i + row['Day of Journey'] - 1) % 7][:3]} {row['Arrival']}\"\n",
    "\n",
    "                            # Calculate the edge weight (time difference between arrival and departure)\n",
    "                            dep_minutes = time_to_minutes(current_departure.split()[0], current_departure.split()[1])\n",
    "                            arr_minutes = time_to_minutes(arrival_time.split()[0], arrival_time.split()[1])\n",
    "                            if arr_minutes < dep_minutes:\n",
    "                                arr_minutes += 10080  # Account for day wrap-around\n",
    "\n",
    "                            edge_weight = arr_minutes - dep_minutes\n",
    "\n",
    "                            # Append the edge data\n",
    "                            edges_data.append([\n",
    "                                train_no, current_station, current_departure,\n",
    "                                row['StationCode'], arrival_time, edge_weight\n",
    "                            ])\n",
    "\n",
    "                            # Update the current station and departure time\n",
    "                            current_station = row['StationCode']\n",
    "                            current_departure = departure_time\n",
    "\n",
    "                # Reset the `current_station` and `current_departure` for the next train_no\n",
    "                current_station = None\n",
    "                current_departure = None\n",
    "\n",
    "# Create a DataFrame with the collected edge data\n",
    "edges_df = pd.DataFrame(edges_data, columns=[\n",
    "    'TrainNo', 'StartingStationCode', 'DepartureTime',\n",
    "    'ArrivingStationCode', 'ArrivalTime', 'EdgeWeight'\n",
    "])\n",
    "\n",
    "# Save the result to a CSV file\n",
    "edges_df.to_csv('train_edges_repeated_days.csv', index=False)\n",
    "\n",
    "print(\"The timetable with repeated days and valid locations has been processed and saved as 'train_edges_repeated_days.csv'.\")\n"
   ]
  },
  {
   "cell_type": "code",
   "execution_count": 3,
   "metadata": {},
   "outputs": [
    {
     "name": "stdout",
     "output_type": "stream",
     "text": [
      "Total time: 7660.77 hours\n"
     ]
    }
   ],
   "source": [
    "import pandas as pd\n",
    "from datetime import datetime\n",
    "\n",
    "# Specify the file path of your CSV file\n",
    "file_path = 'train_edges_repeated_days.csv'\n",
    "\n",
    "# Read the CSV file\n",
    "df = pd.read_csv(file_path)\n",
    "\n",
    "# Function to convert day and time into total minutes\n",
    "def time_to_minutes(day_str, time_str):\n",
    "    day_str = day_str.strip().lower()\n",
    "    days_offset = {'sun': 6, 'mon': 0, 'tue': 1, 'wed': 2, 'thu': 3, 'fri': 4, 'sat': 5}\n",
    "    \n",
    "    time = datetime.strptime(time_str, \"%H:%M\")\n",
    "    minutes = time.hour * 60 + time.minute\n",
    "    return days_offset[day_str[:3]] * 1440 + minutes \n",
    "\n",
    "# Initialize total time in minutes\n",
    "total_time_minutes = 0\n",
    "\n",
    "# Loop through the rows to accumulate total time\n",
    "for index in range(len(df)):\n",
    "    dep_time = time_to_minutes(df.iloc[index, 2].split()[0], df.iloc[index, 2].split()[1])  # Departure time in minutes\n",
    "    arr_time = time_to_minutes(df.iloc[index, 4].split()[0], df.iloc[index, 4].split()[1])  # Arrival time in minutes\n",
    "    \n",
    "    # Add the time difference between departure and arrival for the current row\n",
    "    if arr_time < dep_time:\n",
    "        total_time_minutes += 10080 - dep_time + arr_time  # You start on Sunday and reach on Monday\n",
    "    else:\n",
    "        total_time_minutes += arr_time - dep_time\n",
    "# Convert total time to hours\n",
    "total_time_hours = total_time_minutes / 60\n",
    "\n",
    "# Print the total time in hours\n",
    "print(f\"Total time: {total_time_hours:.2f} hours\")\n"
   ]
  }
 ],
 "metadata": {
  "kernelspec": {
   "display_name": "Python 3",
   "language": "python",
   "name": "python3"
  },
  "language_info": {
   "codemirror_mode": {
    "name": "ipython",
    "version": 3
   },
   "file_extension": ".py",
   "mimetype": "text/x-python",
   "name": "python",
   "nbconvert_exporter": "python",
   "pygments_lexer": "ipython3",
   "version": "3.8.10"
  }
 },
 "nbformat": 4,
 "nbformat_minor": 2
}
